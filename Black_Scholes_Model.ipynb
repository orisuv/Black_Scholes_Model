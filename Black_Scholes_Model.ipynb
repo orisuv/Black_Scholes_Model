{
  "nbformat": 4,
  "nbformat_minor": 0,
  "metadata": {
    "colab": {
      "provenance": []
    },
    "kernelspec": {
      "name": "python3",
      "display_name": "Python 3"
    },
    "language_info": {
      "name": "python"
    }
  },
  "cells": [
    {
      "cell_type": "markdown",
      "source": [
        "# Black-Scholes Model\n",
        "\n",
        "- S: 현재 주식 가격\n",
        "- K: 행사가격\n",
        "- T: 만기까지의 시간 (연 단위)\n",
        "- r: 무위험 이자율\n",
        "- σ: 주식의 변동성\n",
        "\n"
      ],
      "metadata": {
        "id": "qy5WN4TvYE7B"
      }
    },
    {
      "cell_type": "markdown",
      "source": [
        "## Call Option\n",
        "$$ C(S, t) = S_0 N(d_1) - K e^{-r(T-t)} N(d_2)$$\n",
        "\n",
        "$$where$$\n",
        "\n",
        "$$d_1 = \\frac{\\ln\\left(\\frac{S_0}{K}\\right) + \\left(r + \\frac{\\sigma^2}{2}\\right)(T-t)}{\\sigma \\sqrt{T-t}}$$\n",
        "\n",
        "$$d_2 = d_1 - \\sigma \\sqrt{T-t}$$"
      ],
      "metadata": {
        "id": "cR8VhC2Lbk14"
      }
    },
    {
      "cell_type": "code",
      "source": [
        "import numpy as np\n",
        "import scipy.stats as si\n",
        "\n",
        "def black_scholes_call(S, K, T, r, sigma):\n",
        "\n",
        "    # d1, d2\n",
        "    d1 = (np.log(S / K) + (r + 0.5 * sigma ** 2) * T) / (sigma * np.sqrt(T))\n",
        "    d2 = d1 - sigma * np.sqrt(T)\n",
        "\n",
        "    # 콜옵션 가격 계산\n",
        "    call_price = (S * si.norm.cdf(d1, 0.0, 1.0) -\n",
        "                  K * np.exp(-r * T) * si.norm.cdf(d2, 0.0, 1.0))\n",
        "\n",
        "    return call_price"
      ],
      "metadata": {
        "id": "lD0wTOVPb3rm"
      },
      "execution_count": 9,
      "outputs": []
    },
    {
      "cell_type": "code",
      "source": [
        "# 예시1\n",
        "\n",
        "S = 100  # 현재 주가\n",
        "K = 100  # 행사가격\n",
        "T = 1    # 만기까지의 시간(연 단위)\n",
        "r = 0.05 # 무위험 이자율\n",
        "sigma = 0.2 # 주식의 변동성\n",
        "\n",
        "call_price = black_scholes_call(S, K, T, r, sigma)\n",
        "\n",
        "print(f\"Call Option Price: {call_price:.2f}\")"
      ],
      "metadata": {
        "colab": {
          "base_uri": "https://localhost:8080/"
        },
        "id": "_0yS1otpdQiI",
        "outputId": "85990235-6a04-42c4-ebff-b42de0872564"
      },
      "execution_count": 10,
      "outputs": [
        {
          "output_type": "stream",
          "name": "stdout",
          "text": [
            "Call Option Price: 10.45\n"
          ]
        }
      ]
    },
    {
      "cell_type": "markdown",
      "source": [
        "## Put Option\n",
        "\n",
        "\n",
        "$$P(S,t) = K e^{-r(T-t)} N(-d_2) - S_0 N(-d_1)$$\n",
        "\n",
        "$$where$$\n",
        "\n",
        "$$d_1 = \\frac{\\ln\\left(\\frac{S_0}{K}\\right) + \\left(r + \\frac{\\sigma^2}{2}\\right)(T-t)}{\\sigma \\sqrt{T-t}}$$\n",
        "\n",
        "$$d_2 = d_1 - \\sigma \\sqrt{T-t}$$"
      ],
      "metadata": {
        "id": "GzO-SnW_d5T1"
      }
    },
    {
      "cell_type": "code",
      "source": [
        "import numpy as np\n",
        "from scipy.stats import norm\n",
        "\n",
        "def black_scholes_put_price(S0, K, T, r, sigma):\n",
        "\n",
        "    # d1, d2\n",
        "    d1 = (np.log(S0 / K) + (r + 0.5 * sigma**2) * T) / (sigma * np.sqrt(T))\n",
        "    d2 = d1 - sigma * np.sqrt(T)\n",
        "\n",
        "    # 풋옵션 가격 계산\n",
        "    put_price = K * np.exp(-r * T) * norm.cdf(-d2) - S0 * norm.cdf(-d1)\n",
        "\n",
        "    return put_price"
      ],
      "metadata": {
        "id": "oInmsRlDfg5t"
      },
      "execution_count": 11,
      "outputs": []
    },
    {
      "cell_type": "code",
      "source": [
        "# 예시2\n",
        "\n",
        "S = 100  # 현재 주가\n",
        "K = 100  # 행사가격\n",
        "T = 1    # 만기까지의 시간(연 단위)\n",
        "r = 0.05 # 무위험 이자율\n",
        "sigma = 0.2 # 주식의 변동성\n",
        "\n",
        "put_price = black_scholes_put_price(S, K, T, r, sigma)\n",
        "\n",
        "print(f\"Put Option Price: {put_price:.2f}\")"
      ],
      "metadata": {
        "colab": {
          "base_uri": "https://localhost:8080/"
        },
        "id": "kW81Vny0f4Bc",
        "outputId": "df5ae30e-6f56-43b6-9594-e22a6ee7e3cb"
      },
      "execution_count": 12,
      "outputs": [
        {
          "output_type": "stream",
          "name": "stdout",
          "text": [
            "Put Option Price: 5.57\n"
          ]
        }
      ]
    },
    {
      "cell_type": "code",
      "source": [],
      "metadata": {
        "id": "DnL6kWMzhJLe"
      },
      "execution_count": null,
      "outputs": []
    }
  ]
}